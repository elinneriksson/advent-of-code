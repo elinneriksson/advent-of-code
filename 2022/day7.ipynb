{
 "cells": [
  {
   "cell_type": "code",
   "execution_count": 1,
   "metadata": {},
   "outputs": [],
   "source": [
    "with open('day7-input.txt') as f:\n",
    "    data = []\n",
    "    for line in f:\n",
    "        data.append(line.rstrip())"
   ]
  },
  {
   "cell_type": "code",
   "execution_count": 2,
   "metadata": {},
   "outputs": [],
   "source": [
    "dir_dict = {}\n",
    "current_dir = \"\"\n",
    "for i, line in enumerate(data):\n",
    "    if line[0] == '$': \n",
    "        cmd = line.split()\n",
    "        if cmd[1] == 'ls':\n",
    "            continue\n",
    "        elif line == \"$ cd ..\":\n",
    "            temp = current_dir.split('/')[:-1]\n",
    "            current_dir = '/'.join(temp)\n",
    "        else: \n",
    "            if current_dir == \"\":\n",
    "                current_dir = cmd[2]\n",
    "            else: \n",
    "                current_dir = current_dir+'/'+cmd[2]\n",
    "\n",
    "            dir_dict[current_dir] = []\n",
    "    else: \n",
    "        size, file = line.split()\n",
    "        if size == \"dir\":\n",
    "            dir_dict[current_dir].append([current_dir+'/'+file])\n",
    "        else: \n",
    "            size, file = line.split()\n",
    "            dir_dict[current_dir].append([file, int(size)])"
   ]
  },
  {
   "cell_type": "code",
   "execution_count": 3,
   "metadata": {},
   "outputs": [],
   "source": [
    "def total_size_in_dir(current_dir_list,whole_dict): \n",
    "    sum = 0\n",
    "    for item in current_dir_list:\n",
    "        if len(item) == 1:\n",
    "            sum += total_size_in_dir(whole_dict[item[0]],whole_dict)\n",
    "        \n",
    "        else: \n",
    "            sum += item[1]\n",
    "    return sum"
   ]
  },
  {
   "cell_type": "code",
   "execution_count": 4,
   "metadata": {},
   "outputs": [],
   "source": [
    "dir_size = {}\n",
    "for dir,items in dir_dict.items():\n",
    "    dir_size[dir] = total_size_in_dir(items,dir_dict)"
   ]
  },
  {
   "attachments": {},
   "cell_type": "markdown",
   "metadata": {},
   "source": [
    "1: Find all of the directories with a total size of at most 100000. What is the sum of the total sizes of those directories?"
   ]
  },
  {
   "cell_type": "code",
   "execution_count": 5,
   "metadata": {},
   "outputs": [
    {
     "name": "stdout",
     "output_type": "stream",
     "text": [
      "The sum of all directories with a maximum size of 100000 is 1778099.\n"
     ]
    }
   ],
   "source": [
    "total_sum = 0\n",
    "for dir, size in dir_size.items():\n",
    "    if size <= 100000: \n",
    "        total_sum += size\n",
    "\n",
    "print(f'The sum of all directories with a maximum size of 100000 is {total_sum}.')"
   ]
  },
  {
   "attachments": {},
   "cell_type": "markdown",
   "metadata": {},
   "source": [
    "2: Find the smallest directory that, if deleted, would free up enough space on the filesystem to run the update. What is the total size of that directory?"
   ]
  },
  {
   "cell_type": "code",
   "execution_count": 6,
   "metadata": {},
   "outputs": [
    {
     "name": "stdout",
     "output_type": "stream",
     "text": [
      "The smallest directory that can free up enough space is of size 1623571.\n"
     ]
    }
   ],
   "source": [
    "space_avail = 70000000 - dir_size[\"/\"]\n",
    "space_needed = 30000000 - space_avail\n",
    "\n",
    "min_dir = dir_size[\"/\"]\n",
    "for dir, size in dir_size.items():\n",
    "    if size < min_dir and size >= space_needed:\n",
    "        min_dir = size\n",
    "\n",
    "print(f'The smallest directory that can free up enough space is of size {min_dir}.')"
   ]
  }
 ],
 "metadata": {
  "kernelspec": {
   "display_name": "Python 3.10.0 64-bit",
   "language": "python",
   "name": "python3"
  },
  "language_info": {
   "codemirror_mode": {
    "name": "ipython",
    "version": 3
   },
   "file_extension": ".py",
   "mimetype": "text/x-python",
   "name": "python",
   "nbconvert_exporter": "python",
   "pygments_lexer": "ipython3",
   "version": "3.10.0"
  },
  "orig_nbformat": 4,
  "vscode": {
   "interpreter": {
    "hash": "2f7f90f4cfe15eb3d1d8bd5943de0c502952fc1f5c379cfe074a8c6b3cc83f91"
   }
  }
 },
 "nbformat": 4,
 "nbformat_minor": 2
}

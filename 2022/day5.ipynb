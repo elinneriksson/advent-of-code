{
 "cells": [
  {
   "cell_type": "code",
   "execution_count": 1,
   "metadata": {},
   "outputs": [],
   "source": [
    "with open('day5-input.txt') as f:\n",
    "    data = []\n",
    "    for index,line in enumerate(f):\n",
    "        data.append(line.rstrip())\n",
    "        if line == \"\\n\":\n",
    "            stack_index = index"
   ]
  },
  {
   "cell_type": "markdown",
   "metadata": {},
   "source": [
    "1: After the rearrangement procedure completes, what crate ends up on top of each stack?"
   ]
  },
  {
   "cell_type": "code",
   "execution_count": 2,
   "metadata": {},
   "outputs": [],
   "source": [
    "stack = [[],[],[],[],[],[],[],[],[]]\n",
    "for row in range(stack_index-2,-1,-1):\n",
    "    for i in range(0,len(data[row][1::4])):\n",
    "        if data[row][1::4][i] != \" \":\n",
    "            stack[i].append(data[row][1::4][i])"
   ]
  },
  {
   "cell_type": "code",
   "execution_count": 3,
   "metadata": {},
   "outputs": [],
   "source": [
    "nr_crates = []\n",
    "from_stack = []\n",
    "to_stack = []\n",
    "\n",
    "for i in range(stack_index+1, len(data)):\n",
    "    current_move = data[i].rstrip().split()\n",
    "    nr_crates.append(int(current_move[1]))\n",
    "    from_stack.append(int(current_move[3]))\n",
    "    to_stack.append(int(current_move[5]))"
   ]
  },
  {
   "cell_type": "code",
   "execution_count": 4,
   "metadata": {},
   "outputs": [],
   "source": [
    "for move_index in range(0,len(to_stack)):\n",
    "    for repeat_index in range(0,nr_crates[move_index]):\n",
    "        if stack[from_stack[move_index]-1] != []:\n",
    "            moving_crate = stack[from_stack[move_index]-1].pop()\n",
    "            stack[to_stack[move_index]-1].append(moving_crate)"
   ]
  },
  {
   "cell_type": "code",
   "execution_count": 5,
   "metadata": {},
   "outputs": [
    {
     "name": "stdout",
     "output_type": "stream",
     "text": [
      "FCVRLMVQP\n"
     ]
    }
   ],
   "source": [
    "top_crates = \"\"\n",
    "for s in stack:\n",
    "    top_crates += s[-1]\n",
    "    \n",
    "print(top_crates)"
   ]
  },
  {
   "cell_type": "markdown",
   "metadata": {},
   "source": [
    "2: After the rearrangement procedure completes, what crate ends up on top of each stack?"
   ]
  },
  {
   "cell_type": "code",
   "execution_count": 6,
   "metadata": {},
   "outputs": [],
   "source": [
    "stack = [[],[],[],[],[],[],[],[],[]]\n",
    "for row in range(stack_index-2,-1,-1):\n",
    "    for i in range(0,len(data[row][1::4])):\n",
    "        if data[row][1::4][i] != \" \":\n",
    "            stack[i].append(data[row][1::4][i])"
   ]
  },
  {
   "cell_type": "code",
   "execution_count": 7,
   "metadata": {},
   "outputs": [],
   "source": [
    "nr_crates = []\n",
    "from_stack = []\n",
    "to_stack = []\n",
    "\n",
    "for i in range(stack_index+1, len(data)):\n",
    "    current_move = data[i].rstrip().split()\n",
    "    nr_crates.append(int(current_move[1]))\n",
    "    from_stack.append(int(current_move[3]))\n",
    "    to_stack.append(int(current_move[5]))"
   ]
  },
  {
   "cell_type": "code",
   "execution_count": 8,
   "metadata": {},
   "outputs": [],
   "source": [
    "for move_index in range(0,len(to_stack)):\n",
    "    if stack[from_stack[move_index]-1] != []:\n",
    "        nr_in_stack = len(stack[from_stack[move_index]-1])\n",
    "        \n",
    "        crate_low = nr_in_stack - nr_crates[move_index]\n",
    "        crate_high = nr_in_stack\n",
    "        \n",
    "        moving_crates = stack[from_stack[move_index]-1][crate_low:crate_high]\n",
    "        \n",
    "        stack[from_stack[move_index]-1] = stack[from_stack[move_index]-1][:crate_low]\n",
    "        \n",
    "        stack[to_stack[move_index]-1] += moving_crates"
   ]
  },
  {
   "cell_type": "code",
   "execution_count": 9,
   "metadata": {},
   "outputs": [
    {
     "name": "stdout",
     "output_type": "stream",
     "text": [
      "RWLWGJGFD\n"
     ]
    }
   ],
   "source": [
    "top_crates = \"\"\n",
    "for s in stack:\n",
    "    top_crates += s[-1]\n",
    "    \n",
    "print(top_crates)"
   ]
  }
 ],
 "metadata": {
  "kernelspec": {
   "display_name": "Python 3.10.0 64-bit",
   "language": "python",
   "name": "python3"
  },
  "language_info": {
   "codemirror_mode": {
    "name": "ipython",
    "version": 3
   },
   "file_extension": ".py",
   "mimetype": "text/x-python",
   "name": "python",
   "nbconvert_exporter": "python",
   "pygments_lexer": "ipython3",
   "version": "3.10.0"
  },
  "orig_nbformat": 4,
  "vscode": {
   "interpreter": {
    "hash": "2f7f90f4cfe15eb3d1d8bd5943de0c502952fc1f5c379cfe074a8c6b3cc83f91"
   }
  }
 },
 "nbformat": 4,
 "nbformat_minor": 2
}

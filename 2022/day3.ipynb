{
 "cells": [
  {
   "cell_type": "code",
   "execution_count": 1,
   "metadata": {},
   "outputs": [],
   "source": [
    "with open('day3-input.txt') as f:\n",
    "    data = []\n",
    "    for line in f:\n",
    "        data.append(line.rstrip())"
   ]
  },
  {
   "cell_type": "markdown",
   "metadata": {},
   "source": [
    "1: Find the item type that appears in both compartments of each rucksack. What is the sum of the priorities of those item types?"
   ]
  },
  {
   "cell_type": "code",
   "execution_count": 2,
   "metadata": {},
   "outputs": [],
   "source": [
    "in_both_total = []\n",
    "\n",
    "for rugsack in data: \n",
    "    rucksack_in_both = []\n",
    "    rugsack_size = int(len(rugsack))\n",
    "    for item in rugsack[0:int(rugsack_size/2)]:\n",
    "        for item2 in rugsack[int(rugsack_size/2):rugsack_size]:\n",
    "            if item == item2: \n",
    "                if item not in rucksack_in_both: \n",
    "                    rucksack_in_both.append(item)\n",
    "    in_both_total.extend(rucksack_in_both)"
   ]
  },
  {
   "cell_type": "code",
   "execution_count": 3,
   "metadata": {},
   "outputs": [
    {
     "data": {
      "text/plain": [
       "7597"
      ]
     },
     "execution_count": 3,
     "metadata": {},
     "output_type": "execute_result"
    }
   ],
   "source": [
    "import string\n",
    "\n",
    "alphabet=string.ascii_lowercase\n",
    "alphabet+=string.ascii_uppercase\n",
    "\n",
    "prio_sum = 0\n",
    "for letter in in_both_total:\n",
    "    prio_sum += alphabet.find(letter)+1\n",
    "\n",
    "prio_sum"
   ]
  },
  {
   "cell_type": "markdown",
   "metadata": {},
   "source": [
    "2: Find the item type that corresponds to the badges of each three-Elf group. What is the sum of the priorities of those item types?"
   ]
  },
  {
   "cell_type": "code",
   "execution_count": 4,
   "metadata": {},
   "outputs": [],
   "source": [
    "n=3\n",
    "common = []\n",
    "\n",
    "for i,group in enumerate(data[::n]): \n",
    "    elf_a = set(data[n*i])\n",
    "    elf_b = set(data[n*i+1])\n",
    "    elf_c = set(data[n*i+2])\n",
    "    \n",
    "    common.extend(set.intersection(elf_a,elf_b,elf_c))"
   ]
  },
  {
   "cell_type": "code",
   "execution_count": 5,
   "metadata": {},
   "outputs": [
    {
     "data": {
      "text/plain": [
       "2607"
      ]
     },
     "execution_count": 5,
     "metadata": {},
     "output_type": "execute_result"
    }
   ],
   "source": [
    "prio_sum = 0\n",
    "for letter in common:\n",
    "    prio_sum += alphabet.find(letter)+1\n",
    "\n",
    "prio_sum"
   ]
  }
 ],
 "metadata": {
  "kernelspec": {
   "display_name": "Python 3.11.0 64-bit",
   "language": "python",
   "name": "python3"
  },
  "language_info": {
   "codemirror_mode": {
    "name": "ipython",
    "version": 3
   },
   "file_extension": ".py",
   "mimetype": "text/x-python",
   "name": "python",
   "nbconvert_exporter": "python",
   "pygments_lexer": "ipython3",
   "version": "3.11.0"
  },
  "orig_nbformat": 4,
  "vscode": {
   "interpreter": {
    "hash": "78d031308d5b653739026fafbfd71259e69ecaa8c28897b9ba689215c5744913"
   }
  }
 },
 "nbformat": 4,
 "nbformat_minor": 2
}

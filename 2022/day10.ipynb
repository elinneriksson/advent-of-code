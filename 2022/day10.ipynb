{
 "cells": [
  {
   "cell_type": "code",
   "execution_count": 1,
   "metadata": {},
   "outputs": [],
   "source": [
    "with open('day10-input.txt') as f:\n",
    "    data = []\n",
    "    for line in f:\n",
    "        data.append(line.rstrip())"
   ]
  },
  {
   "cell_type": "code",
   "execution_count": 2,
   "metadata": {},
   "outputs": [],
   "source": [
    "def in_range(cycle, sprite):\n",
    "    cycle_position = cycle % 40\n",
    "    if cycle_position in [sprite, sprite+1, sprite+2]:\n",
    "        return True\n",
    "    return False"
   ]
  },
  {
   "cell_type": "code",
   "execution_count": 3,
   "metadata": {},
   "outputs": [],
   "source": [
    "def draw_point(drawing, cycle, X): \n",
    "    row_size = 40\n",
    "    if in_range(cycle, X):\n",
    "        drawing[int((cycle-1)/row_size)] += \"#\"\n",
    "    else:\n",
    "        drawing[int((cycle-1)/row_size)] += \".\"\n",
    "    return drawing"
   ]
  },
  {
   "cell_type": "code",
   "execution_count": 4,
   "metadata": {},
   "outputs": [],
   "source": [
    "cycle = 0\n",
    "X = 1\n",
    "X_dict= {}\n",
    "\n",
    "drawing = ['']*6\n",
    "\n",
    "for index, instuction in enumerate(data):\n",
    "\n",
    "    if instuction == 'noop':\n",
    "        cycle += 1\n",
    "        X_dict[cycle] = X\n",
    "\n",
    "        drawing = draw_point(drawing, cycle, X_dict[cycle])\n",
    "    else: \n",
    "        add_x = int(instuction.split()[1])\n",
    "\n",
    "        cycle += 1\n",
    "        X_dict[cycle] = X\n",
    "        drawing = draw_point(drawing, cycle, X_dict[cycle])\n",
    "\n",
    "        cycle += 1 \n",
    "        X_dict[cycle] = X\n",
    "        drawing = draw_point(drawing, cycle, X_dict[cycle])\n",
    "\n",
    "        X += add_x"
   ]
  },
  {
   "attachments": {},
   "cell_type": "markdown",
   "metadata": {},
   "source": [
    "1: Find the signal strength during the 20th, 60th, 100th, 140th, 180th, and 220th cycles. What is the sum of these six signal strengths?"
   ]
  },
  {
   "cell_type": "code",
   "execution_count": 5,
   "metadata": {},
   "outputs": [
    {
     "name": "stdout",
     "output_type": "stream",
     "text": [
      "At cycle 20, X is 21. 20 * 21 = 420.\n",
      "At cycle 60, X is 26. 60 * 26 = 1560.\n",
      "At cycle 100, X is 9. 100 * 9 = 900.\n",
      "At cycle 140, X is 25. 140 * 25 = 3500.\n",
      "At cycle 180, X is 21. 180 * 21 = 3780.\n",
      "At cycle 220, X is 21. 220 * 21 = 4620.\n",
      "The sum is 14780.\n"
     ]
    }
   ],
   "source": [
    "sum = 0\n",
    "for i in [20, 60, 100, 140, 180, 220]:\n",
    "    print(f'At cycle {i}, X is {X_dict[i]}. {i} * {X_dict[i]} = {X_dict[i] * i}.')\n",
    "    sum += X_dict[i] * i\n",
    "\n",
    "print(f'The sum is {sum}.')"
   ]
  },
  {
   "attachments": {},
   "cell_type": "markdown",
   "metadata": {},
   "source": [
    "2: Render the image given by your program. What eight capital letters appear on your CRT?"
   ]
  },
  {
   "cell_type": "code",
   "execution_count": 6,
   "metadata": {},
   "outputs": [
    {
     "data": {
      "text/plain": [
       "['####.#....###..#....####..##..####.#...#',\n",
       " '#....#....#..#.#.......#.#..#....#.#....',\n",
       " '###..#....#..#.#......#..#......#..#....',\n",
       " '#....#....###..#.....#...#.##..#...#...#',\n",
       " '#....#....#....#....#....#..#.#....#....',\n",
       " '####.####.#....####.####..###.####.####.']"
      ]
     },
     "execution_count": 6,
     "metadata": {},
     "output_type": "execute_result"
    }
   ],
   "source": [
    "drawing"
   ]
  }
 ],
 "metadata": {
  "kernelspec": {
   "display_name": "Python 3",
   "language": "python",
   "name": "python3"
  },
  "language_info": {
   "codemirror_mode": {
    "name": "ipython",
    "version": 3
   },
   "file_extension": ".py",
   "mimetype": "text/x-python",
   "name": "python",
   "nbconvert_exporter": "python",
   "pygments_lexer": "ipython3",
   "version": "3.10.8"
  },
  "orig_nbformat": 4,
  "vscode": {
   "interpreter": {
    "hash": "26dd9c404c5ed3ff7fe11342eff444d3e1392fa7c205237a72edaed7bb362b93"
   }
  }
 },
 "nbformat": 4,
 "nbformat_minor": 2
}

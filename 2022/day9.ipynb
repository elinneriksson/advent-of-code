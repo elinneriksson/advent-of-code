{
 "cells": [
  {
   "cell_type": "code",
   "execution_count": 1,
   "metadata": {},
   "outputs": [],
   "source": [
    "with open('day9-input.txt') as f:\n",
    "    data = []\n",
    "    for line in f:\n",
    "        data.append(line.rstrip())"
   ]
  },
  {
   "cell_type": "code",
   "execution_count": 2,
   "metadata": {},
   "outputs": [],
   "source": [
    "def move_head(d,head):\n",
    "    if d == 'R':\n",
    "        head[0] += 1\n",
    "    elif d == 'L':\n",
    "        head[0] -= 1\n",
    "    elif d == 'U':\n",
    "        head[1] += 1\n",
    "    elif d == 'D':\n",
    "        head[1] -= 1\n",
    "    return head"
   ]
  },
  {
   "cell_type": "code",
   "execution_count": 3,
   "metadata": {},
   "outputs": [],
   "source": [
    "def head_above(head,tail):\n",
    "    if head[1] > tail[1]:\n",
    "        return True\n",
    "    return False\n",
    "\n",
    "def head_under(head,tail):\n",
    "    if head[1] < tail[1]:\n",
    "        return True\n",
    "    return False\n",
    "\n",
    "def head_right(head,tail):\n",
    "    if head[0] > tail[0]:\n",
    "        return True\n",
    "    return False\n",
    "\n",
    "def head_left(head,tail):\n",
    "    if head[0] < tail[0]:\n",
    "        return True\n",
    "    return False"
   ]
  },
  {
   "cell_type": "code",
   "execution_count": 4,
   "metadata": {},
   "outputs": [],
   "source": [
    "def move_tail(head,tail):\n",
    "    tail2 = tail.copy()\n",
    "    \n",
    "    if head_above(head,tail): \n",
    "        tail2[1] += 1\n",
    "    \n",
    "    elif head_under(head,tail): \n",
    "        tail2[1] -= 1\n",
    "    \n",
    "    if head_right(head,tail): \n",
    "        tail2[0] += 1\n",
    "        \n",
    "    elif head_left(head,tail):\n",
    "        tail2[0] -= 1\n",
    "\n",
    "    return tail2"
   ]
  },
  {
   "cell_type": "code",
   "execution_count": 5,
   "metadata": {},
   "outputs": [],
   "source": [
    "def tail_near_head(head,tail):\n",
    "    if tail[0] in range(head[0]-1, head[0]+2) and tail[1] in range(head[1]-1, head[1]+2): \n",
    "        return True\n",
    "    return False"
   ]
  },
  {
   "cell_type": "code",
   "execution_count": 6,
   "metadata": {},
   "outputs": [],
   "source": [
    "def simulate_moves(data, rope_length):\n",
    "    rope = {}\n",
    "    for i in range(rope_length):\n",
    "        rope[i] = [0,0]\n",
    "\n",
    "    tail_visited = [[0,0]]\n",
    "    \n",
    "    for i, move in enumerate(data):\n",
    "        d, s = move.split()\n",
    "        s = int(s)\n",
    "        \n",
    "        for _ in range(0,s):\n",
    "            \n",
    "            rope[0] = move_head(d, rope[0])\n",
    "            for i in range(1, len(rope)):\n",
    "                if not tail_near_head(rope[i-1], rope[i]):\n",
    "                    temp_tail = move_tail(rope[i-1], rope[i])\n",
    "                    \n",
    "                    if i == len(rope)-1 and not temp_tail in tail_visited:\n",
    "                        tail_visited.append(temp_tail)\n",
    "                    \n",
    "                    rope[i] = temp_tail.copy()\n",
    "                    \n",
    "    return len(tail_visited)"
   ]
  },
  {
   "attachments": {},
   "cell_type": "markdown",
   "metadata": {},
   "source": [
    "1: How many positions does the tail of the rope visit at least once?"
   ]
  },
  {
   "cell_type": "code",
   "execution_count": 7,
   "metadata": {},
   "outputs": [
    {
     "data": {
      "text/plain": [
       "6311"
      ]
     },
     "execution_count": 7,
     "metadata": {},
     "output_type": "execute_result"
    }
   ],
   "source": [
    "simulate_moves(data, 2)"
   ]
  },
  {
   "attachments": {},
   "cell_type": "markdown",
   "metadata": {},
   "source": [
    "2: Simulate your complete series of motions on a larger rope with ten knots. How many positions does the tail of the rope visit at least once?"
   ]
  },
  {
   "cell_type": "code",
   "execution_count": 8,
   "metadata": {},
   "outputs": [
    {
     "data": {
      "text/plain": [
       "2482"
      ]
     },
     "execution_count": 8,
     "metadata": {},
     "output_type": "execute_result"
    }
   ],
   "source": [
    "simulate_moves(data, 10)"
   ]
  }
 ],
 "metadata": {
  "kernelspec": {
   "display_name": "Python 3.11.0 64-bit",
   "language": "python",
   "name": "python3"
  },
  "language_info": {
   "codemirror_mode": {
    "name": "ipython",
    "version": 3
   },
   "file_extension": ".py",
   "mimetype": "text/x-python",
   "name": "python",
   "nbconvert_exporter": "python",
   "pygments_lexer": "ipython3",
   "version": "3.11.0"
  },
  "orig_nbformat": 4,
  "vscode": {
   "interpreter": {
    "hash": "78d031308d5b653739026fafbfd71259e69ecaa8c28897b9ba689215c5744913"
   }
  }
 },
 "nbformat": 4,
 "nbformat_minor": 2
}

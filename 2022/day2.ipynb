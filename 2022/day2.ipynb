{
 "cells": [
  {
   "cell_type": "code",
   "execution_count": 1,
   "metadata": {},
   "outputs": [],
   "source": [
    "with open('day2-input.txt') as f:\n",
    "    data = []\n",
    "    for line in f:\n",
    "        data.append(line.rstrip())"
   ]
  },
  {
   "cell_type": "markdown",
   "metadata": {},
   "source": [
    "1: Your total score is the sum of your scores for each round. The score for a single round is the score for the shape you selected (1 for Rock, 2 for Paper, and 3 for Scissors) plus the score for the outcome of the round (0 if you lost, 3 if the round was a draw, and 6 if you won).\n",
    "\n",
    "What would your total score be if everything goes exactly according to your strategy guide?"
   ]
  },
  {
   "cell_type": "markdown",
   "metadata": {},
   "source": [
    "A/X: Rock \n",
    "B/Y: Paper\n",
    "C/Z: Scissor"
   ]
  },
  {
   "cell_type": "code",
   "execution_count": 2,
   "metadata": {},
   "outputs": [],
   "source": [
    "score_shape = {\"X\": 1, \"Y\": 2, \"Z\": 3}\n",
    "win = {\"Y\": \"A\", \"Z\": \"B\", \"X\": \"C\"}\n",
    "draw = {\"X\": \"A\", \"Y\": \"B\", \"Z\": \"C\"}"
   ]
  },
  {
   "cell_type": "code",
   "execution_count": 3,
   "metadata": {},
   "outputs": [],
   "source": [
    "strategy = dict(subString.split(\" \") for subString in data)"
   ]
  },
  {
   "cell_type": "code",
   "execution_count": 4,
   "metadata": {},
   "outputs": [],
   "source": [
    "score = 0\n",
    "for round in data:\n",
    "    opponent = round[0]\n",
    "    you = round[2]\n",
    "    \n",
    "    if opponent == win[you]:\n",
    "        score += 6\n",
    "    elif opponent == draw[you]:\n",
    "        score += 3\n",
    "    score += score_shape[you]"
   ]
  },
  {
   "cell_type": "code",
   "execution_count": 5,
   "metadata": {},
   "outputs": [
    {
     "name": "stdout",
     "output_type": "stream",
     "text": [
      "Using this strategy, you get the score 11150.\n"
     ]
    }
   ],
   "source": [
    "print(f'Using this strategy, you get the score {score}.')"
   ]
  },
  {
   "cell_type": "markdown",
   "metadata": {},
   "source": [
    "2: X means you need to lose, Y means you need to end the round in a draw, and Z means you need to win.\n",
    "\n",
    "What would your total score be if everything goes exactly according to your strategy guide?"
   ]
  },
  {
   "cell_type": "code",
   "execution_count": 6,
   "metadata": {},
   "outputs": [],
   "source": [
    "score_shape = {\"A\": 1, \"B\": 2, \"C\": 3}\n",
    "win = {\"A\": \"B\", \"B\": \"C\", \"C\": \"A\", }\n",
    "lose = {\"C\": \"B\", \"B\": \"A\", \"A\": \"C\"}"
   ]
  },
  {
   "cell_type": "code",
   "execution_count": 7,
   "metadata": {},
   "outputs": [],
   "source": [
    "game_translate = {\"A\": \"Rock\", \"B\": \"Paper\", \"C\": \"Scissor\"}\n",
    "outcome_translate = {\"X\": \"Lose\", \"Y\": \"Draw\", \"Z\": \"Win\"} "
   ]
  },
  {
   "cell_type": "code",
   "execution_count": 8,
   "metadata": {},
   "outputs": [
    {
     "name": "stdout",
     "output_type": "stream",
     "text": [
      "In the last game, opponent chooses Paper, you want to Win, so you choose Scissor.\n"
     ]
    }
   ],
   "source": [
    "score = 0\n",
    "for round in data:\n",
    "    opponent = round[0]\n",
    "    outcome = round[2]\n",
    "    \n",
    "    if outcome == \"Z\":\n",
    "        score += 6\n",
    "        you = win[opponent]\n",
    "    elif outcome == \"Y\":\n",
    "        score += 3\n",
    "        you = opponent\n",
    "    elif outcome == \"X\": \n",
    "        you = lose[opponent]\n",
    "    score += score_shape[you]\n",
    "    \n",
    "print(f'In the last game, opponent chooses {game_translate[opponent]}, you want to {outcome_translate[outcome]}, so you choose {game_translate[you]}.')"
   ]
  },
  {
   "cell_type": "code",
   "execution_count": 9,
   "metadata": {},
   "outputs": [
    {
     "name": "stdout",
     "output_type": "stream",
     "text": [
      "Using this strategy, you get the score 8295.\n"
     ]
    }
   ],
   "source": [
    "print(f'Using this strategy, you get the score {score}.')"
   ]
  }
 ],
 "metadata": {
  "kernelspec": {
   "display_name": "Python 3.11.0 64-bit",
   "language": "python",
   "name": "python3"
  },
  "language_info": {
   "codemirror_mode": {
    "name": "ipython",
    "version": 3
   },
   "file_extension": ".py",
   "mimetype": "text/x-python",
   "name": "python",
   "nbconvert_exporter": "python",
   "pygments_lexer": "ipython3",
   "version": "3.11.0"
  },
  "orig_nbformat": 4,
  "vscode": {
   "interpreter": {
    "hash": "78d031308d5b653739026fafbfd71259e69ecaa8c28897b9ba689215c5744913"
   }
  }
 },
 "nbformat": 4,
 "nbformat_minor": 2
}

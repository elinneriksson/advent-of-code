{
 "cells": [
  {
   "cell_type": "code",
   "execution_count": 1,
   "metadata": {},
   "outputs": [],
   "source": [
    "with open('day1-input.txt') as f:\n",
    "    data = []\n",
    "    for line in f:\n",
    "        if line.rstrip().isdigit(): \n",
    "            data.append(int(line.rstrip()))\n",
    "        else:\n",
    "            data.append(line.rstrip())"
   ]
  },
  {
   "cell_type": "markdown",
   "metadata": {},
   "source": [
    "1: Find the Elf carrying the most Calories. How many total Calories is that Elf carrying?"
   ]
  },
  {
   "cell_type": "code",
   "execution_count": 2,
   "metadata": {},
   "outputs": [
    {
     "name": "stdout",
     "output_type": "stream",
     "text": [
      "The sum is 71924.\n"
     ]
    }
   ],
   "source": [
    "max_sum = 0\n",
    "\n",
    "for i,value in enumerate(data): \n",
    "    if value == '':\n",
    "        current_sum = 0\n",
    "        k = i-1\n",
    "        while (data[k] != '') & (k >= 0):\n",
    "            current_sum += data[k]\n",
    "            k -= 1\n",
    "                \n",
    "        if current_sum > max_sum:\n",
    "            max_sum = current_sum\n",
    "    \n",
    "\n",
    "print(f\"The sum is {max_sum}.\")"
   ]
  },
  {
   "cell_type": "markdown",
   "metadata": {},
   "source": [
    "2: Find the top three Elves carrying the most Calories. How many Calories are those Elves carrying in total?"
   ]
  },
  {
   "cell_type": "code",
   "execution_count": 7,
   "metadata": {},
   "outputs": [
    {
     "name": "stdout",
     "output_type": "stream",
     "text": [
      "The values [71924, 69893, 68589] adds up to the sum 210406.\n"
     ]
    }
   ],
   "source": [
    "max_sum = []\n",
    "\n",
    "for i,value in enumerate(data): \n",
    "    if value == '':\n",
    "        current_sum = 0\n",
    "        k = i-1\n",
    "        while (data[k] != '') & (k >= 0):\n",
    "            current_sum += data[k]\n",
    "            k -= 1\n",
    "        max_sum.append(current_sum)            \n",
    "\n",
    "max_sum.sort(reverse=1)\n",
    "print(f\"The values {max_sum[0:3]} adds up to the sum {sum(max_sum[0:3])}.\")"
   ]
  }
 ],
 "metadata": {
  "kernelspec": {
   "display_name": "Python 3.11.0 64-bit",
   "language": "python",
   "name": "python3"
  },
  "language_info": {
   "codemirror_mode": {
    "name": "ipython",
    "version": 3
   },
   "file_extension": ".py",
   "mimetype": "text/x-python",
   "name": "python",
   "nbconvert_exporter": "python",
   "pygments_lexer": "ipython3",
   "version": "3.11.0"
  },
  "orig_nbformat": 4,
  "vscode": {
   "interpreter": {
    "hash": "78d031308d5b653739026fafbfd71259e69ecaa8c28897b9ba689215c5744913"
   }
  }
 },
 "nbformat": 4,
 "nbformat_minor": 2
}

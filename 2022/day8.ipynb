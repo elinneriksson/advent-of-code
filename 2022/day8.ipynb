{
 "cells": [
  {
   "cell_type": "code",
   "execution_count": 1,
   "metadata": {},
   "outputs": [],
   "source": [
    "with open('day8-input.txt') as f:\n",
    "    data = []\n",
    "    for i, line in enumerate(f):\n",
    "        data.append([])\n",
    "        for char in line.rstrip(): \n",
    "            data[i].append(int(char))"
   ]
  },
  {
   "attachments": {},
   "cell_type": "markdown",
   "metadata": {},
   "source": [
    "1: How many trees are visible from outside the grid?"
   ]
  },
  {
   "cell_type": "code",
   "execution_count": 2,
   "metadata": {},
   "outputs": [],
   "source": [
    "def on_edge(i,j,data): \n",
    "    if i == 0 or j == 0 or i == len(data)-1 or j == len(data[i])-1:\n",
    "        return True"
   ]
  },
  {
   "cell_type": "code",
   "execution_count": 3,
   "metadata": {},
   "outputs": [],
   "source": [
    "def is_visible(i,j,data):\n",
    "    # Left\n",
    "    if sum(x < data[i][j] for x in data[i][j:]) == len(data[i][j:])-1:\n",
    "        return True\n",
    "    \n",
    "    # Right\n",
    "    elif sum(x < data[i][j] for x in data[i][:j]) == len(data[i][:j]): \n",
    "        return True\n",
    "    \n",
    "    col = []\n",
    "    for n in data:\n",
    "        col.append(n[j])\n",
    "    \n",
    "    # Top\n",
    "    if sum(x < data[i][j] for x in col[:i]) == len(col[:i]): \n",
    "        return True\n",
    "\n",
    "    # Bottom \n",
    "    if sum(x < data[i][j] for x in col[i+1:]) == len(col[i+1:]): \n",
    "        return True\n",
    "\n",
    "    return False\n"
   ]
  },
  {
   "cell_type": "code",
   "execution_count": 4,
   "metadata": {},
   "outputs": [
    {
     "data": {
      "text/plain": [
       "1835"
      ]
     },
     "execution_count": 4,
     "metadata": {},
     "output_type": "execute_result"
    }
   ],
   "source": [
    "visible_trees = {}\n",
    "\n",
    "for i, row in enumerate(data):\n",
    "    for j, val in enumerate(row): \n",
    "\n",
    "        if on_edge(i,j,data):\n",
    "            visible_trees[(i,j)] = 1\n",
    "        else: \n",
    "            if is_visible(i,j,data):\n",
    "                visible_trees[(i,j)] = 1\n",
    "            \n",
    "len(visible_trees)\n"
   ]
  },
  {
   "attachments": {},
   "cell_type": "markdown",
   "metadata": {},
   "source": [
    "2: "
   ]
  },
  {
   "cell_type": "code",
   "execution_count": 5,
   "metadata": {},
   "outputs": [],
   "source": [
    "def add_visible_tree(data,i,j,tree_list):\n",
    "    tree_count = 0\n",
    "\n",
    "    for tree in tree_list:\n",
    "        if tree >= data[i][j]:\n",
    "            tree_count += 1\n",
    "            break\n",
    "        else: \n",
    "            tree_count += 1\n",
    "    return tree_count"
   ]
  },
  {
   "cell_type": "code",
   "execution_count": 6,
   "metadata": {},
   "outputs": [],
   "source": [
    "def visible_trees(i,j,data):\n",
    "\n",
    "    trees_left = add_visible_tree(data,i,j,reversed(data[i][:j]))\n",
    "    \n",
    "    trees_right = add_visible_tree(data,i,j,data[i][j+1:])\n",
    "    \n",
    "    col = []\n",
    "    for n in data:\n",
    "        col.append(n[j])\n",
    "\n",
    "    trees_top = add_visible_tree(data,i,j,reversed(col[:i]))\n",
    "\n",
    "    trees_bottom = add_visible_tree(data,i,j,col[i+1:])\n",
    "\n",
    "    return [trees_left, trees_right, trees_top, trees_bottom] \n"
   ]
  },
  {
   "cell_type": "code",
   "execution_count": 7,
   "metadata": {},
   "outputs": [],
   "source": [
    "nr_trees = {}\n",
    "\n",
    "for i, row in enumerate(data):\n",
    "    for j, val in enumerate(row): \n",
    "\n",
    "        if on_edge(i,j,data):\n",
    "            pass\n",
    "        else: \n",
    "            nr_trees[(i,j)] = visible_trees(i,j,data)\n",
    "            \n"
   ]
  },
  {
   "cell_type": "code",
   "execution_count": 8,
   "metadata": {},
   "outputs": [
    {
     "data": {
      "text/plain": [
       "263670"
      ]
     },
     "execution_count": 8,
     "metadata": {},
     "output_type": "execute_result"
    }
   ],
   "source": [
    "highest_value = 0\n",
    "for pos, lst in nr_trees.items():\n",
    "    if lst[0]*lst[1]*lst[2]*lst[3] > highest_value:\n",
    "        highest_value = lst[0]*lst[1]*lst[2]*lst[3]\n",
    "\n",
    "highest_value\n",
    "\n",
    "    "
   ]
  }
 ],
 "metadata": {
  "kernelspec": {
   "display_name": "Python 3.11.0 64-bit",
   "language": "python",
   "name": "python3"
  },
  "language_info": {
   "codemirror_mode": {
    "name": "ipython",
    "version": 3
   },
   "file_extension": ".py",
   "mimetype": "text/x-python",
   "name": "python",
   "nbconvert_exporter": "python",
   "pygments_lexer": "ipython3",
   "version": "3.11.0"
  },
  "orig_nbformat": 4,
  "vscode": {
   "interpreter": {
    "hash": "78d031308d5b653739026fafbfd71259e69ecaa8c28897b9ba689215c5744913"
   }
  }
 },
 "nbformat": 4,
 "nbformat_minor": 2
}

{
 "cells": [
  {
   "cell_type": "code",
   "execution_count": 1,
   "metadata": {},
   "outputs": [],
   "source": [
    "with open('day4-input.txt') as f:\n",
    "    data = []\n",
    "    for line in f:\n",
    "        data.append(line.rstrip().split(','))"
   ]
  },
  {
   "cell_type": "markdown",
   "metadata": {},
   "source": [
    "1: In how many assignment pairs does one range fully contain the other?"
   ]
  },
  {
   "cell_type": "code",
   "execution_count": 2,
   "metadata": {},
   "outputs": [
    {
     "name": "stdout",
     "output_type": "stream",
     "text": [
      "In 509 pairs (out of 1000) does one range fully contain the other.\n"
     ]
    }
   ],
   "source": [
    "count = 0\n",
    "for pair in data: \n",
    "    elf_a, elf_b = pair\n",
    "\n",
    "    elf_a_low, elf_a_high = [int(x) for x in elf_a.split(\"-\")]\n",
    "    elf_b_low, elf_b_high = [int(x) for x in elf_b.split(\"-\")]\n",
    "    \n",
    "    if elf_a_low in range(elf_b_low,elf_b_high+1) and elf_a_high in range(elf_b_low,elf_b_high+1):\n",
    "        count += 1\n",
    "    elif elf_b_low in range(elf_a_low,elf_a_high+1) and elf_b_high in range(elf_a_low,elf_a_high+1):\n",
    "        count += 1\n",
    "    \n",
    "print(f'In {count} pairs (out of {len(data)}) does one range fully contain the other.')"
   ]
  },
  {
   "cell_type": "markdown",
   "metadata": {},
   "source": [
    "2: In how many assignment pairs do the ranges overlap?"
   ]
  },
  {
   "cell_type": "code",
   "execution_count": 3,
   "metadata": {},
   "outputs": [
    {
     "name": "stdout",
     "output_type": "stream",
     "text": [
      "In 870 pairs (out of 1000) does the ranges overlap.\n"
     ]
    }
   ],
   "source": [
    "count = 0\n",
    "for pair in data: \n",
    "    elf_a, elf_b = pair\n",
    "\n",
    "    elf_a_low, elf_a_high = [int(x) for x in elf_a.split(\"-\")]\n",
    "    elf_b_low, elf_b_high = [int(x) for x in elf_b.split(\"-\")]\n",
    "    \n",
    "    if elf_a_low in range(elf_b_low,elf_b_high+1) or elf_a_high in range(elf_b_low,elf_b_high+1):\n",
    "        count += 1\n",
    "    elif elf_b_low in range(elf_a_low,elf_a_high+1) or elf_b_high in range(elf_a_low,elf_a_high+1):\n",
    "        count += 1\n",
    "\n",
    "print(f'In {count} pairs (out of {len(data)}) does the ranges overlap.')"
   ]
  }
 ],
 "metadata": {
  "kernelspec": {
   "display_name": "Python 3.11.0 64-bit",
   "language": "python",
   "name": "python3"
  },
  "language_info": {
   "codemirror_mode": {
    "name": "ipython",
    "version": 3
   },
   "file_extension": ".py",
   "mimetype": "text/x-python",
   "name": "python",
   "nbconvert_exporter": "python",
   "pygments_lexer": "ipython3",
   "version": "3.11.0"
  },
  "orig_nbformat": 4,
  "vscode": {
   "interpreter": {
    "hash": "78d031308d5b653739026fafbfd71259e69ecaa8c28897b9ba689215c5744913"
   }
  }
 },
 "nbformat": 4,
 "nbformat_minor": 2
}

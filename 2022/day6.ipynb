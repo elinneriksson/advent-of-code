{
 "cells": [
  {
   "cell_type": "code",
   "execution_count": 101,
   "metadata": {},
   "outputs": [],
   "source": [
    "with open('day6-input.txt') as f:\n",
    "    data = []\n",
    "    for line in f:\n",
    "        data.append(line.rstrip())"
   ]
  },
  {
   "cell_type": "code",
   "execution_count": 102,
   "metadata": {},
   "outputs": [],
   "source": [
    "def find_marker(line, nr): \n",
    "    for i,char in enumerate(line): \n",
    "        \n",
    "        last_four = line[i:i+nr]\n",
    "\n",
    "        if len(set(last_four)) == nr:\n",
    "            print(f\"Found marker at position {i+nr}, with the sequence '{last_four}'.\")\n",
    "            return"
   ]
  },
  {
   "cell_type": "markdown",
   "metadata": {},
   "source": [
    "1: How many characters need to be processed before the first start-of-packet marker is detected? The start of a packet is indicated by a sequence of four characters that are all different. "
   ]
  },
  {
   "cell_type": "code",
   "execution_count": 103,
   "metadata": {},
   "outputs": [
    {
     "name": "stdout",
     "output_type": "stream",
     "text": [
      "Found marker at position 1578, with the sequence 'bdjq'.\n"
     ]
    }
   ],
   "source": [
    "find_marker(data[0],4)"
   ]
  },
  {
   "cell_type": "markdown",
   "metadata": {},
   "source": [
    "2: How many characters need to be processed before the first start-of-message marker is detected? A start-of-message marker is just like a start-of-packet marker, except it consists of 14 distinct characters rather than 4."
   ]
  },
  {
   "cell_type": "code",
   "execution_count": 104,
   "metadata": {},
   "outputs": [
    {
     "name": "stdout",
     "output_type": "stream",
     "text": [
      "Found marker at position 2178, with the sequence 'mdcbnwqgshpvfj'.\n"
     ]
    }
   ],
   "source": [
    "find_marker(data[0],14)"
   ]
  }
 ],
 "metadata": {
  "kernelspec": {
   "display_name": "Python 3.10.0 64-bit",
   "language": "python",
   "name": "python3"
  },
  "language_info": {
   "codemirror_mode": {
    "name": "ipython",
    "version": 3
   },
   "file_extension": ".py",
   "mimetype": "text/x-python",
   "name": "python",
   "nbconvert_exporter": "python",
   "pygments_lexer": "ipython3",
   "version": "3.10.0"
  },
  "orig_nbformat": 4,
  "vscode": {
   "interpreter": {
    "hash": "2f7f90f4cfe15eb3d1d8bd5943de0c502952fc1f5c379cfe074a8c6b3cc83f91"
   }
  }
 },
 "nbformat": 4,
 "nbformat_minor": 2
}

{
 "cells": [
  {
   "cell_type": "code",
   "execution_count": 1,
   "metadata": {},
   "outputs": [],
   "source": [
    "with open('day1_input.txt') as f:\n",
    "    data = []\n",
    "    for line in f:\n",
    "        data.append(int(line.rstrip()))"
   ]
  },
  {
   "cell_type": "markdown",
   "metadata": {},
   "source": [
    "How many measurements are larger than the previous measurement?"
   ]
  },
  {
   "cell_type": "code",
   "execution_count": 2,
   "metadata": {},
   "outputs": [],
   "source": [
    "# Part 1\n",
    "count = 0\n",
    "for i in range(len(data) - 2):\n",
    "    current_measurement = data[i]\n",
    "    next_measurement = data[i + 1]\n",
    "    if (next_measurement > current_measurement):\n",
    "        count += 1"
   ]
  },
  {
   "cell_type": "markdown",
   "metadata": {},
   "source": [
    "Consider sums of a three-measurement sliding window. How many sums are larger than the previous sum?"
   ]
  },
  {
   "cell_type": "code",
   "execution_count": 3,
   "metadata": {},
   "outputs": [],
   "source": [
    "# Part 2\n",
    "count = 0\n",
    "for i in range(len(data) - 1 - 3):\n",
    "    current_window = data[i] + data[i + 1] + data [i + 2] \n",
    "    next_window = data[i + 1] + data [i + 2] + data [i + 3]\n",
    "    if (next_window > current_window):\n",
    "        count += 1"
   ]
  },
  {
   "cell_type": "code",
   "execution_count": 11,
   "metadata": {},
   "outputs": [
    {
     "data": {
      "text/plain": [
       "True"
      ]
     },
     "execution_count": 11,
     "metadata": {},
     "output_type": "execute_result"
    }
   ],
   "source": [
    "i = 1996\n",
    "current_window = data[i] + data[i + 1] + data [i + 2]\n",
    "next_window = data[i + 1] + data [i + 2] + data [i + 3]\n",
    "(next_window > current_window)"
   ]
  },
  {
   "cell_type": "code",
   "execution_count": 16,
   "metadata": {},
   "outputs": [
    {
     "name": "stdout",
     "output_type": "stream",
     "text": [
      "6619\n",
      "6627\n",
      "6629\n",
      "19875\n"
     ]
    }
   ],
   "source": [
    "print(data[i])\n",
    "print(data[i + 1])\n",
    "print(data [i + 2])\n",
    "print(data[i] + data[i + 1] + data [i + 2])"
   ]
  },
  {
   "cell_type": "code",
   "execution_count": 12,
   "metadata": {},
   "outputs": [
    {
     "data": {
      "text/plain": [
       "range(0, 1996)"
      ]
     },
     "execution_count": 12,
     "metadata": {},
     "output_type": "execute_result"
    }
   ],
   "source": [
    "range(len(data) - 1 - 3)"
   ]
  }
 ],
 "metadata": {
  "interpreter": {
   "hash": "74afa6dfa8d0913538c5d202b3a4e5f2d1b4b8f6493f24d720264a4f46129fe3"
  },
  "kernelspec": {
   "display_name": "Python 3.10.0 64-bit",
   "language": "python",
   "name": "python3"
  },
  "language_info": {
   "codemirror_mode": {
    "name": "ipython",
    "version": 3
   },
   "file_extension": ".py",
   "mimetype": "text/x-python",
   "name": "python",
   "nbconvert_exporter": "python",
   "pygments_lexer": "ipython3",
   "version": "3.10.0"
  },
  "orig_nbformat": 4
 },
 "nbformat": 4,
 "nbformat_minor": 2
}

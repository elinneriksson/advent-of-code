{
 "cells": [
  {
   "cell_type": "code",
   "execution_count": null,
   "metadata": {},
   "outputs": [],
   "source": [
    "with open('day6-input.txt') as f:\n",
    "    data = []\n",
    "    for line in f:\n",
    "        data.append(line.rstrip().split(','))\n",
    "    data = [int(line) for line in data[0]]\n"
   ]
  },
  {
   "cell_type": "markdown",
   "metadata": {},
   "source": [
    "Part 1: How many lanternfish would there be after 80 days?\n",
    "and\n",
    "Part 2: How many lanternfish would there be after 256 days?"
   ]
  },
  {
   "cell_type": "code",
   "execution_count": null,
   "metadata": {},
   "outputs": [],
   "source": [
    "#days = 80\n",
    "days = 256\n",
    "\n",
    "nr_per_day = []\n",
    "for i in range(0,9):\n",
    "    nr_per_day.append(data.count(i))\n",
    "    \n",
    "for i in range(days):\n",
    "    nr_new_fish = nr_per_day.pop(0)\n",
    "    nr_per_day[6] += nr_new_fish\n",
    "    nr_per_day.append(nr_new_fish)\n",
    "\n",
    "print(sum(nr_per_day))"
   ]
  }
 ],
 "metadata": {
  "interpreter": {
   "hash": "74afa6dfa8d0913538c5d202b3a4e5f2d1b4b8f6493f24d720264a4f46129fe3"
  },
  "kernelspec": {
   "display_name": "Python 3.10.0 64-bit",
   "language": "python",
   "name": "python3"
  },
  "language_info": {
   "codemirror_mode": {
    "name": "ipython",
    "version": 3
   },
   "file_extension": ".py",
   "mimetype": "text/x-python",
   "name": "python",
   "nbconvert_exporter": "python",
   "pygments_lexer": "ipython3",
   "version": "3.10.0"
  },
  "orig_nbformat": 4
 },
 "nbformat": 4,
 "nbformat_minor": 2
}

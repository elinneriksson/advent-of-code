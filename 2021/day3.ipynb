{
 "cells": [
  {
   "cell_type": "code",
   "execution_count": 14,
   "metadata": {},
   "outputs": [],
   "source": [
    "with open('day3-input.txt') as f:\n",
    "    data = []\n",
    "    for line in f:\n",
    "        data.append(line.rstrip())"
   ]
  },
  {
   "cell_type": "markdown",
   "metadata": {},
   "source": [
    "Part 1: What is the power consumption of the submarine?"
   ]
  },
  {
   "cell_type": "code",
   "execution_count": 15,
   "metadata": {},
   "outputs": [
    {
     "name": "stdout",
     "output_type": "stream",
     "text": [
      "749376\n"
     ]
    }
   ],
   "source": [
    "X = data; bit = 0; most_common = \"\"; least_common = \"\"\n",
    "for bit in range(len(data[0])):\n",
    "    bit_sum = 0\n",
    "    for row in X:\n",
    "        bit_sum += int(row[bit])\n",
    "    most_common += str(int(bit_sum >= len(X)/2))\n",
    "    least_common += str(int(bit_sum <= len(X)/2))\n",
    "\n",
    "first_num = int(str(most_common),2)\n",
    "second_num = int(str(least_common),2)\n",
    "\n",
    "print(first_num * second_num)\n"
   ]
  },
  {
   "cell_type": "markdown",
   "metadata": {},
   "source": [
    "Part 2: What is the life support rating of the submarine?"
   ]
  },
  {
   "cell_type": "code",
   "execution_count": 16,
   "metadata": {},
   "outputs": [],
   "source": [
    "X = data\n",
    "bit = 0\n",
    "while len(X) > 1:\n",
    "    bit_sum = 0\n",
    "    for row in X:\n",
    "        bit_sum += int(row[bit])\n",
    "    most_common = int(bit_sum >= len(X)/2)\n",
    "    \n",
    "    X2 = []\n",
    "    for row in X:\n",
    "        if int(row[bit]) == most_common:\n",
    "            X2.append(row)\n",
    "    X = X2\n",
    "    bit += 1\n",
    "first_num = X"
   ]
  },
  {
   "cell_type": "code",
   "execution_count": 17,
   "metadata": {},
   "outputs": [],
   "source": [
    "X = data\n",
    "bit = 0\n",
    "while len(X) > 1:\n",
    "    bit_sum = 0\n",
    "    for row in X:\n",
    "        bit_sum += int(row[bit])\n",
    "    least_common = int(bit_sum < len(X)/2)\n",
    "    \n",
    "    X2 = []\n",
    "    for row in X:\n",
    "        if int(row[bit]) == least_common:\n",
    "            X2.append(row)\n",
    "    X = X2\n",
    "    bit += 1\n",
    "second_num = X"
   ]
  },
  {
   "cell_type": "code",
   "execution_count": 18,
   "metadata": {},
   "outputs": [
    {
     "name": "stdout",
     "output_type": "stream",
     "text": [
      "2372923\n"
     ]
    }
   ],
   "source": [
    "first_num = int(str(first_num[0]),2)\n",
    "second_num = int(str(second_num[0]),2)\n",
    "\n",
    "print(first_num * second_num)"
   ]
  }
 ],
 "metadata": {
  "interpreter": {
   "hash": "74afa6dfa8d0913538c5d202b3a4e5f2d1b4b8f6493f24d720264a4f46129fe3"
  },
  "kernelspec": {
   "display_name": "Python 3.10.0 64-bit",
   "language": "python",
   "name": "python3"
  },
  "language_info": {
   "codemirror_mode": {
    "name": "ipython",
    "version": 3
   },
   "file_extension": ".py",
   "mimetype": "text/x-python",
   "name": "python",
   "nbconvert_exporter": "python",
   "pygments_lexer": "ipython3",
   "version": "3.10.0"
  },
  "orig_nbformat": 4
 },
 "nbformat": 4,
 "nbformat_minor": 2
}

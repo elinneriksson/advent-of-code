{
 "cells": [
  {
   "cell_type": "code",
   "execution_count": 12,
   "metadata": {},
   "outputs": [],
   "source": [
    "with open('day7-input.txt') as f:\n",
    "    data = []\n",
    "    for line in f:\n",
    "        data.append(line.rstrip().split(','))\n",
    "    data = [int(line) for line in data[0]]"
   ]
  },
  {
   "cell_type": "markdown",
   "metadata": {},
   "source": [
    "Part 1: Determine the horizontal positionEnd that the crabs can align to using the least fuel possible. How much fuel must they spend to align to that positionEnd?"
   ]
  },
  {
   "cell_type": "code",
   "execution_count": 14,
   "metadata": {},
   "outputs": [
    {
     "data": {
      "text/plain": [
       "323647"
      ]
     },
     "execution_count": 14,
     "metadata": {},
     "output_type": "execute_result"
    }
   ],
   "source": [
    "highestValue = max(data)\n",
    "lowestValue = min(data)\n",
    "\n",
    "positionFuelComsuption = []\n",
    "for positionEnd in range(lowestValue,highestValue):\n",
    "    fuel = 0\n",
    "    for positionStart in data: \n",
    "        fuel += abs(positionStart-positionEnd)\n",
    "    positionFuelComsuption.append(fuel)\n",
    "\n",
    "min(positionFuelComsuption)"
   ]
  },
  {
   "cell_type": "markdown",
   "metadata": {},
   "source": [
    "Part 2: Determine the horizontal positionEnd that the crabs can align to using the least fuel possible so they can make you an escape route! How much fuel must they spend to align to that positionEnd?"
   ]
  },
  {
   "cell_type": "code",
   "execution_count": 13,
   "metadata": {},
   "outputs": [
    {
     "data": {
      "text/plain": [
       "87640209"
      ]
     },
     "execution_count": 13,
     "metadata": {},
     "output_type": "execute_result"
    }
   ],
   "source": [
    "highestValue = max(data)\n",
    "lowestValue = min(data)\n",
    "\n",
    "positionFuelComsuption = []\n",
    "for positionEnd in range(lowestValue,highestValue):\n",
    "    fuel = 0\n",
    "    for positionStart in data: \n",
    "        steps = abs(positionStart-positionEnd)\n",
    "        fuel += sum(range(1,steps+1))\n",
    "    positionFuelComsuption.append(fuel)\n",
    "\n",
    "min(positionFuelComsuption)"
   ]
  }
 ],
 "metadata": {
  "interpreter": {
   "hash": "74afa6dfa8d0913538c5d202b3a4e5f2d1b4b8f6493f24d720264a4f46129fe3"
  },
  "kernelspec": {
   "display_name": "Python 3.10.0 64-bit",
   "language": "python",
   "name": "python3"
  },
  "language_info": {
   "codemirror_mode": {
    "name": "ipython",
    "version": 3
   },
   "file_extension": ".py",
   "mimetype": "text/x-python",
   "name": "python",
   "nbconvert_exporter": "python",
   "pygments_lexer": "ipython3",
   "version": "3.10.0"
  },
  "orig_nbformat": 4
 },
 "nbformat": 4,
 "nbformat_minor": 2
}

{
 "cells": [
  {
   "cell_type": "code",
   "execution_count": 10,
   "metadata": {},
   "outputs": [],
   "source": [
    "with open('day9-input.txt') as f:\n",
    "    data = []\n",
    "    for line in f:\n",
    "        data.append(line.rstrip())"
   ]
  },
  {
   "cell_type": "markdown",
   "metadata": {},
   "source": [
    "Part 1: "
   ]
  },
  {
   "cell_type": "code",
   "execution_count": 11,
   "metadata": {},
   "outputs": [
    {
     "data": {
      "text/plain": [
       "524"
      ]
     },
     "execution_count": 11,
     "metadata": {},
     "output_type": "execute_result"
    }
   ],
   "source": [
    "lowest = []; lowSum = 0\n",
    "for i in range(len(data)): \n",
    "    for j in range(len(data[0])):        \n",
    "        if i != 0: # Point above\n",
    "            top = int(data[i-1][j])\n",
    "        else: \n",
    "            top = 10\n",
    "                \n",
    "        if j != (len(data[0])-1): # Point to the right\n",
    "            right = int(data[i][j+1])\n",
    "        else: \n",
    "            right = 10\n",
    "\n",
    "        if i != (len(data)-1): # Point under\n",
    "            bottom = int(data[i+1][j])\n",
    "        else:\n",
    "            bottom = 10\n",
    "\n",
    "        if j != 0: # Point to the right\n",
    "            left = int(data[i][j-1])\n",
    "        else: \n",
    "            left = 10\n",
    "\n",
    "        #if len([k for k in [top,right,under,left] if k < int(data[i][j])]) == 0:\n",
    "        if (int(data[i][j]) < top and int(data[i][j]) < right and int(data[i][j]) < bottom and int(data[i][j]) < left):\n",
    "            lowest.append([i,j])\n",
    "            lowSum += int(data[i][j])\n",
    "             \n",
    "lowSum + len(lowest)"
   ]
  },
  {
   "cell_type": "markdown",
   "metadata": {},
   "source": [
    "Part 2: "
   ]
  },
  {
   "cell_type": "code",
   "execution_count": 12,
   "metadata": {},
   "outputs": [],
   "source": [
    "def adjecent_low(data, indexList, lowIndex, alreadyChecked):\n",
    "    i = indexList[0]\n",
    "    j = indexList[1]\n",
    "    \n",
    "    if [i,j] not in alreadyChecked:\n",
    "        alreadyChecked.append([i,j])\n",
    "        if i != 0: # Point above\n",
    "            top = int(data[i-1][j])\n",
    "            if top < 9: \n",
    "                lowIndex.append([i-1,j])\n",
    "\n",
    "        if j != (len(data[0])-1): # Point to the right\n",
    "            right = int(data[i][j+1])\n",
    "            if right < 9: \n",
    "                lowIndex.append([i,j+1])\n",
    "\n",
    "        if i != (len(data)-1): # Point under\n",
    "            bottom = int(data[i+1][j])\n",
    "            if bottom < 9: \n",
    "                lowIndex.append([i+1,j])\n",
    "\n",
    "        if j != 0: # Point to the left\n",
    "            left = int(data[i][j-1])\n",
    "            if left < 9: \n",
    "                lowIndex.append([i,j-1])\n",
    "        \n",
    "        for k in range(len(lowIndex)):\n",
    "            if lowIndex[k] not in alreadyChecked:\n",
    "                #alreadyChecked.append(lowIndex[k])\n",
    "                return adjecent_low(data, lowIndex[k], lowIndex, alreadyChecked)\n",
    "                \n",
    "\n",
    "    return(alreadyChecked)"
   ]
  },
  {
   "cell_type": "code",
   "execution_count": 13,
   "metadata": {},
   "outputs": [
    {
     "data": {
      "text/plain": [
       "1235430"
      ]
     },
     "execution_count": 13,
     "metadata": {},
     "output_type": "execute_result"
    }
   ],
   "source": [
    "basin = []\n",
    "for m in range(len(lowest)):\n",
    "    alreadyChecked = []\n",
    "    toCheck = []\n",
    "    basin.append(len(adjecent_low(data, lowest[m], toCheck, alreadyChecked)))\n",
    "basin.sort(reverse=True)\n",
    "basin[0]*basin[1]*basin[2]"
   ]
  }
 ],
 "metadata": {
  "interpreter": {
   "hash": "74afa6dfa8d0913538c5d202b3a4e5f2d1b4b8f6493f24d720264a4f46129fe3"
  },
  "kernelspec": {
   "display_name": "Python 3.10.0 64-bit",
   "language": "python",
   "name": "python3"
  },
  "language_info": {
   "codemirror_mode": {
    "name": "ipython",
    "version": 3
   },
   "file_extension": ".py",
   "mimetype": "text/x-python",
   "name": "python",
   "nbconvert_exporter": "python",
   "pygments_lexer": "ipython3",
   "version": "3.10.0"
  },
  "orig_nbformat": 4
 },
 "nbformat": 4,
 "nbformat_minor": 2
}

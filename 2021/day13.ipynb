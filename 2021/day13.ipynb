{
 "cells": [
  {
   "cell_type": "code",
   "execution_count": 52,
   "metadata": {},
   "outputs": [],
   "source": [
    "import numpy as np\n",
    "with open('day13-input.txt') as f:\n",
    "    data = []\n",
    "    folds = []\n",
    "    beforeLineBreak = True\n",
    "    for line in f:\n",
    "        if beforeLineBreak:\n",
    "            if line == \"\\n\":\n",
    "                beforeLineBreak = False\n",
    "            else:\n",
    "                data.append(line.rstrip())\n",
    "        else: \n",
    "            folds.append(line.rstrip()) \n",
    "    coordX = [int(line.replace('\\n', '').split(',')[0]) for line in data]\n",
    "    coordY = [int(line.replace('\\n', '').split(',')[1]) for line in data]\n",
    "\n",
    "    folds = [line.replace('\\n', '').split(' ')[2] for line in folds]\n",
    "    foldVar = [line.split('=')[0] for line in folds]\n",
    "    foldNum = [int(line.split('=')[1]) for line in folds]\n"
   ]
  },
  {
   "cell_type": "markdown",
   "metadata": {},
   "source": [
    "Part 1: How many dots are visible after completing just the first fold instruction on your transparent paper?\n",
    "and\n",
    "Part 2: The manual says the code is always eight capital letters. What code do you use to activate the infrared thermal imaging camera system? "
   ]
  },
  {
   "cell_type": "code",
   "execution_count": 54,
   "metadata": {},
   "outputs": [],
   "source": [
    "paper = np.zeros((max(coordY)+1,max(coordX)+1),dtype=int)\n",
    "for i in range(len(coordX)): \n",
    "    paper[coordY[i],coordX[i]] = 1\n",
    "\n",
    "#for fold in range(len(folds)): # Run all folds in part 2\n",
    "fold = 0\n",
    "if foldVar[fold] == \"x\":\n",
    "    markedPointsOverFold = [x > foldNum[fold] for x in coordX]\n",
    "    for j in np.where(markedPointsOverFold)[0]:\n",
    "        newX = 2*foldNum[fold] - coordX[j]\n",
    "        coordX[j] = newX\n",
    "        paper[coordY[j],newX] += 1\n",
    "        paper = paper[:,range(foldNum[fold])]    \n",
    "elif foldVar[fold] == \"y\":\n",
    "    markedPointsOverFold = [y > foldNum[fold] for y in coordY]\n",
    "    for j in np.where(markedPointsOverFold)[0]:\n",
    "        newY = 2*foldNum[fold] - coordY[j]\n",
    "        coordY[j] = newY\n",
    "        paper[newY,coordX[j]] += 1\n",
    "        paper = paper[range(foldNum[fold]),:]\n",
    "\n",
    "np.count_nonzero(paper)"
   ]
  }
 ],
 "metadata": {
  "interpreter": {
   "hash": "74afa6dfa8d0913538c5d202b3a4e5f2d1b4b8f6493f24d720264a4f46129fe3"
  },
  "kernelspec": {
   "display_name": "Python 3.10.0 64-bit",
   "language": "python",
   "name": "python3"
  },
  "language_info": {
   "codemirror_mode": {
    "name": "ipython",
    "version": 3
   },
   "file_extension": ".py",
   "mimetype": "text/x-python",
   "name": "python",
   "nbconvert_exporter": "python",
   "pygments_lexer": "ipython3",
   "version": "3.10.0"
  },
  "orig_nbformat": 4
 },
 "nbformat": 4,
 "nbformat_minor": 2
}

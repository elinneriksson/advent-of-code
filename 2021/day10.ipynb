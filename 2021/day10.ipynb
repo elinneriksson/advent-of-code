{
 "cells": [
  {
   "cell_type": "code",
   "execution_count": 1,
   "metadata": {},
   "outputs": [],
   "source": [
    "import re\n",
    "with open('day10-input.txt') as f:\n",
    "    data = []\n",
    "    for line in f:\n",
    "        data.append(line.rstrip())\n",
    "chunks = {\n",
    "    '(': ')',\n",
    "    '[': ']',\n",
    "    '{': '}',\n",
    "    '<': '>',\n",
    "}"
   ]
  },
  {
   "cell_type": "markdown",
   "metadata": {},
   "source": [
    "Part 1: Find the first illegal character in each corrupted line of the navigation subsystem. What is the total syntax error score for those errors?"
   ]
  },
  {
   "cell_type": "code",
   "execution_count": 2,
   "metadata": {},
   "outputs": [],
   "source": [
    "points = {\n",
    "    ')': 3,\n",
    "    ']': 57,\n",
    "    '}': 1197,\n",
    "    '>': 25137,\n",
    "}\n",
    "removeList = []\n",
    "for a in chunks.keys(): \n",
    "    removeChunk = (\"\\\\\"+a+\"\\\\\"+chunks[a])\n",
    "    removeList.append(removeChunk)\n",
    "save = []\n",
    "for line in data: \n",
    "    keepGoing = True\n",
    "    while len(line) > 0 and keepGoing:\n",
    "        line2 = line\n",
    "        line = re.sub((r''+removeList[0]),\"\",line)\n",
    "        line = re.sub((r''+removeList[1]),\"\",line)\n",
    "        line = re.sub((r''+removeList[2]),\"\",line)\n",
    "        line = re.sub((r''+removeList[3]),\"\",line)\n",
    "        \n",
    "        if line == line2:\n",
    "            keepGoing = False\n",
    "            save.append(line)"
   ]
  },
  {
   "cell_type": "code",
   "execution_count": 3,
   "metadata": {},
   "outputs": [
    {
     "name": "stdout",
     "output_type": "stream",
     "text": [
      "367059\n"
     ]
    }
   ],
   "source": [
    "pointSum = 0\n",
    "lineFaulty = []\n",
    "for i in range(len(save)):\n",
    "    j = 0; keepGoing = True\n",
    "    while j < len(save[i]) and keepGoing:\n",
    "        firstFaulty = save[i][j]\n",
    "        if firstFaulty in points.keys(): \n",
    "            pointSum += points[firstFaulty]\n",
    "            keepGoing = False\n",
    "            lineFaulty.append(i)\n",
    "        j += 1\n",
    "print(pointSum)\n",
    "        "
   ]
  },
  {
   "cell_type": "markdown",
   "metadata": {},
   "source": [
    "Part 2: Find the completion string for each incomplete line, score the completion strings, and sort the scores. What is the middle score?"
   ]
  },
  {
   "cell_type": "code",
   "execution_count": 4,
   "metadata": {},
   "outputs": [
    {
     "data": {
      "text/plain": [
       "1952146692"
      ]
     },
     "execution_count": 4,
     "metadata": {},
     "output_type": "execute_result"
    }
   ],
   "source": [
    "points = {\n",
    "    ')': 1,\n",
    "    ']': 2,\n",
    "    '}': 3,\n",
    "    '>': 4,\n",
    "}\n",
    "pointSum = []\n",
    "for i in range(len(data)):\n",
    "    if i not in lineFaulty:\n",
    "        pointCurrent = 0\n",
    "        for j in range((len(save[i])-1),-1,-1):\n",
    "            firstMissing = save[i][j]\n",
    "            if firstMissing in chunks.keys():\n",
    "                missingAdded = chunks[firstMissing]\n",
    "                pointCurrent = pointCurrent*5 + points[missingAdded]\n",
    "        pointSum.append(pointCurrent)\n",
    "pointSum.sort()\n",
    "pointSum[(len(pointSum)//2)]"
   ]
  }
 ],
 "metadata": {
  "interpreter": {
   "hash": "74afa6dfa8d0913538c5d202b3a4e5f2d1b4b8f6493f24d720264a4f46129fe3"
  },
  "kernelspec": {
   "display_name": "Python 3.10.0 64-bit",
   "language": "python",
   "name": "python3"
  },
  "language_info": {
   "codemirror_mode": {
    "name": "ipython",
    "version": 3
   },
   "file_extension": ".py",
   "mimetype": "text/x-python",
   "name": "python",
   "nbconvert_exporter": "python",
   "pygments_lexer": "ipython3",
   "version": "3.10.0"
  },
  "orig_nbformat": 4
 },
 "nbformat": 4,
 "nbformat_minor": 2
}
